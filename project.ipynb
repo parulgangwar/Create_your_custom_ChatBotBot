{
 "cells": [
  {
   "cell_type": "markdown",
   "id": "124e5672",
   "metadata": {},
   "source": [
    "# Custom Chatbot Project"
   ]
  },
  {
   "cell_type": "markdown",
   "id": "2a4a94b3",
   "metadata": {},
   "source": [
    "TODO: In this cell, write an explanation of which dataset you have chosen and why it is appropriate for this task\n",
    "\n",
    "I have selected https://en.wikipedia.org/wiki/2022 for my dataset as it contains lot of interesting events information which has happened over the course of 2022. It has varity of data and covering a wide range of topics, makes it an ideal resource for training a chatbot."
   ]
  },
  {
   "cell_type": "markdown",
   "id": "a63d4c5f",
   "metadata": {},
   "source": [
    "## Data Wrangling\n",
    "\n",
    "TODO: In the cells below, load your chosen dataset into a `pandas` dataframe with a column named `\"text\"`. This column should contain all of your text data, separated into at least 20 rows."
   ]
  },
  {
   "cell_type": "code",
   "execution_count": 52,
   "id": "c69b83a1",
   "metadata": {},
   "outputs": [
    {
     "name": "stdout",
     "output_type": "stream",
     "text": [
      "                                                 text\n",
      "0   2022 (MMXXII) was a common year starting on Sa...\n",
      "1   The year saw the removal of nearly all COVID-1...\n",
      "2   2022 was also dominated by wars and armed conf...\n",
      "3                                                    \n",
      "4                                                    \n",
      "5                                        == Events ==\n",
      "6                                                    \n",
      "7                                                    \n",
      "8                                     === January ===\n",
      "9    January 1 – The Regional Comprehensive Econom...\n",
      "10  January 2 – Abdalla Hamdok resigns as Prime Mi...\n",
      "11  January 4 – The five permanent members of the ...\n",
      "12  January 5 – A nationwide state of emergency is...\n",
      "13  January 6 – The CSTO deploys a \"peacekeeping\" ...\n",
      "14  January 7 – COVID-19 pandemic: The number of C...\n",
      "15  January 9 – February 6 – The 2021 Africa Cup o...\n",
      "16  January 10 – The first successful heart transp...\n",
      "17  January 15 – A large eruption of Hunga Tonga–H...\n",
      "18  January 16 – World No. 1 tennis champion Novak...\n",
      "19                                         January 23\n"
     ]
    }
   ],
   "source": [
    "import requests\n",
    "import pandas as pd\n",
    "\n",
    "# This function is to fetch Wikipedia data extract for\"2022\" Wikipedia page\n",
    "def fetch_wikipedia_extract(title):\n",
    "    endpoint = \"https://en.wikipedia.org/w/api.php\"\n",
    "    params = {\n",
    "        \"action\": \"query\",\n",
    "        \"prop\": \"extracts\",\n",
    "        \"format\": \"json\",\n",
    "        \"titles\": title,\n",
    "        \"explaintext\": True\n",
    "    }\n",
    "\n",
    "    response = requests.get(endpoint, params=params)\n",
    "    \n",
    "    if response.status_code == 200:\n",
    "        data = response.json()\n",
    "        page = next(iter(data['query']['pages'].values()))\n",
    "        return page.get('extract', '')\n",
    "    else:\n",
    "        print(f\"Failed to fetch data. Status code: {response.status_code}\")\n",
    "        return \"\"\n",
    "\n",
    "content = fetch_wikipedia_extract(\"2022\")\n",
    "\n",
    "paragraphs = content.split(\"\\n\")\n",
    "\n",
    "while len(paragraphs) < 20:\n",
    "    paragraphs.extend(paragraphs)\n",
    "\n",
    "paragraphs = paragraphs[:20]\n",
    "\n",
    "df = pd.DataFrame(paragraphs, columns=[\"text\"])\n",
    "\n",
    "print(df)"
   ]
  },
  {
   "cell_type": "code",
   "execution_count": 53,
   "id": "0a595980",
   "metadata": {},
   "outputs": [
    {
     "data": {
      "text/html": [
       "<div>\n",
       "<style scoped>\n",
       "    .dataframe tbody tr th:only-of-type {\n",
       "        vertical-align: middle;\n",
       "    }\n",
       "\n",
       "    .dataframe tbody tr th {\n",
       "        vertical-align: top;\n",
       "    }\n",
       "\n",
       "    .dataframe thead th {\n",
       "        text-align: right;\n",
       "    }\n",
       "</style>\n",
       "<table border=\"1\" class=\"dataframe\">\n",
       "  <thead>\n",
       "    <tr style=\"text-align: right;\">\n",
       "      <th></th>\n",
       "      <th>text</th>\n",
       "    </tr>\n",
       "  </thead>\n",
       "  <tbody>\n",
       "    <tr>\n",
       "      <th>0</th>\n",
       "      <td>2022 (MMXXII) was a common year starting on Sa...</td>\n",
       "    </tr>\n",
       "    <tr>\n",
       "      <th>1</th>\n",
       "      <td>The year saw the removal of nearly all COVID-1...</td>\n",
       "    </tr>\n",
       "    <tr>\n",
       "      <th>2</th>\n",
       "      <td>2022 was also dominated by wars and armed conf...</td>\n",
       "    </tr>\n",
       "    <tr>\n",
       "      <th>5</th>\n",
       "      <td>== Events ==</td>\n",
       "    </tr>\n",
       "    <tr>\n",
       "      <th>8</th>\n",
       "      <td>=== January ===</td>\n",
       "    </tr>\n",
       "    <tr>\n",
       "      <th>9</th>\n",
       "      <td>January 1 – The Regional Comprehensive Econom...</td>\n",
       "    </tr>\n",
       "    <tr>\n",
       "      <th>10</th>\n",
       "      <td>January 2 – Abdalla Hamdok resigns as Prime Mi...</td>\n",
       "    </tr>\n",
       "    <tr>\n",
       "      <th>11</th>\n",
       "      <td>January 4 – The five permanent members of the ...</td>\n",
       "    </tr>\n",
       "    <tr>\n",
       "      <th>12</th>\n",
       "      <td>January 5 – A nationwide state of emergency is...</td>\n",
       "    </tr>\n",
       "    <tr>\n",
       "      <th>13</th>\n",
       "      <td>January 6 – The CSTO deploys a \"peacekeeping\" ...</td>\n",
       "    </tr>\n",
       "    <tr>\n",
       "      <th>14</th>\n",
       "      <td>January 7 – COVID-19 pandemic: The number of C...</td>\n",
       "    </tr>\n",
       "    <tr>\n",
       "      <th>15</th>\n",
       "      <td>January 9 – February 6 – The 2021 Africa Cup o...</td>\n",
       "    </tr>\n",
       "    <tr>\n",
       "      <th>16</th>\n",
       "      <td>January 10 – The first successful heart transp...</td>\n",
       "    </tr>\n",
       "    <tr>\n",
       "      <th>17</th>\n",
       "      <td>January 15 – A large eruption of Hunga Tonga–H...</td>\n",
       "    </tr>\n",
       "    <tr>\n",
       "      <th>18</th>\n",
       "      <td>January 16 – World No. 1 tennis champion Novak...</td>\n",
       "    </tr>\n",
       "    <tr>\n",
       "      <th>19</th>\n",
       "      <td>January 23</td>\n",
       "    </tr>\n",
       "  </tbody>\n",
       "</table>\n",
       "</div>"
      ],
      "text/plain": [
       "                                                 text\n",
       "0   2022 (MMXXII) was a common year starting on Sa...\n",
       "1   The year saw the removal of nearly all COVID-1...\n",
       "2   2022 was also dominated by wars and armed conf...\n",
       "5                                        == Events ==\n",
       "8                                     === January ===\n",
       "9    January 1 – The Regional Comprehensive Econom...\n",
       "10  January 2 – Abdalla Hamdok resigns as Prime Mi...\n",
       "11  January 4 – The five permanent members of the ...\n",
       "12  January 5 – A nationwide state of emergency is...\n",
       "13  January 6 – The CSTO deploys a \"peacekeeping\" ...\n",
       "14  January 7 – COVID-19 pandemic: The number of C...\n",
       "15  January 9 – February 6 – The 2021 Africa Cup o...\n",
       "16  January 10 – The first successful heart transp...\n",
       "17  January 15 – A large eruption of Hunga Tonga–H...\n",
       "18  January 16 – World No. 1 tennis champion Novak...\n",
       "19                                         January 23"
      ]
     },
     "execution_count": 53,
     "metadata": {},
     "output_type": "execute_result"
    }
   ],
   "source": [
    "#This step is remove blanks\n",
    "df = df[df[\"text\"].str.len()>0]\n",
    "df"
   ]
  },
  {
   "cell_type": "code",
   "execution_count": 54,
   "id": "acb3a9fd",
   "metadata": {},
   "outputs": [],
   "source": [
    "#This step is to remove text starting from \"==\"\n",
    "df = df[~df[\"text\"].str.startswith(\"==\")]"
   ]
  },
  {
   "cell_type": "code",
   "execution_count": 55,
   "id": "7683646a",
   "metadata": {},
   "outputs": [
    {
     "data": {
      "text/html": [
       "<div>\n",
       "<style scoped>\n",
       "    .dataframe tbody tr th:only-of-type {\n",
       "        vertical-align: middle;\n",
       "    }\n",
       "\n",
       "    .dataframe tbody tr th {\n",
       "        vertical-align: top;\n",
       "    }\n",
       "\n",
       "    .dataframe thead th {\n",
       "        text-align: right;\n",
       "    }\n",
       "</style>\n",
       "<table border=\"1\" class=\"dataframe\">\n",
       "  <thead>\n",
       "    <tr style=\"text-align: right;\">\n",
       "      <th></th>\n",
       "      <th>text</th>\n",
       "    </tr>\n",
       "  </thead>\n",
       "  <tbody>\n",
       "    <tr>\n",
       "      <th>0</th>\n",
       "      <td>2022 (MMXXII) was a common year starting on Sa...</td>\n",
       "    </tr>\n",
       "    <tr>\n",
       "      <th>1</th>\n",
       "      <td>The year saw the removal of nearly all COVID-1...</td>\n",
       "    </tr>\n",
       "    <tr>\n",
       "      <th>2</th>\n",
       "      <td>2022 was also dominated by wars and armed conf...</td>\n",
       "    </tr>\n",
       "    <tr>\n",
       "      <th>9</th>\n",
       "      <td>January 1 – The Regional Comprehensive Econom...</td>\n",
       "    </tr>\n",
       "    <tr>\n",
       "      <th>10</th>\n",
       "      <td>January 2 – Abdalla Hamdok resigns as Prime Mi...</td>\n",
       "    </tr>\n",
       "    <tr>\n",
       "      <th>11</th>\n",
       "      <td>January 4 – The five permanent members of the ...</td>\n",
       "    </tr>\n",
       "    <tr>\n",
       "      <th>12</th>\n",
       "      <td>January 5 – A nationwide state of emergency is...</td>\n",
       "    </tr>\n",
       "    <tr>\n",
       "      <th>13</th>\n",
       "      <td>January 6 – The CSTO deploys a \"peacekeeping\" ...</td>\n",
       "    </tr>\n",
       "    <tr>\n",
       "      <th>14</th>\n",
       "      <td>January 7 – COVID-19 pandemic: The number of C...</td>\n",
       "    </tr>\n",
       "    <tr>\n",
       "      <th>15</th>\n",
       "      <td>January 9 – February 6 – The 2021 Africa Cup o...</td>\n",
       "    </tr>\n",
       "    <tr>\n",
       "      <th>16</th>\n",
       "      <td>January 10 – The first successful heart transp...</td>\n",
       "    </tr>\n",
       "    <tr>\n",
       "      <th>17</th>\n",
       "      <td>January 15 – A large eruption of Hunga Tonga–H...</td>\n",
       "    </tr>\n",
       "    <tr>\n",
       "      <th>18</th>\n",
       "      <td>January 16 – World No. 1 tennis champion Novak...</td>\n",
       "    </tr>\n",
       "    <tr>\n",
       "      <th>19</th>\n",
       "      <td>January 23</td>\n",
       "    </tr>\n",
       "  </tbody>\n",
       "</table>\n",
       "</div>"
      ],
      "text/plain": [
       "                                                 text\n",
       "0   2022 (MMXXII) was a common year starting on Sa...\n",
       "1   The year saw the removal of nearly all COVID-1...\n",
       "2   2022 was also dominated by wars and armed conf...\n",
       "9    January 1 – The Regional Comprehensive Econom...\n",
       "10  January 2 – Abdalla Hamdok resigns as Prime Mi...\n",
       "11  January 4 – The five permanent members of the ...\n",
       "12  January 5 – A nationwide state of emergency is...\n",
       "13  January 6 – The CSTO deploys a \"peacekeeping\" ...\n",
       "14  January 7 – COVID-19 pandemic: The number of C...\n",
       "15  January 9 – February 6 – The 2021 Africa Cup o...\n",
       "16  January 10 – The first successful heart transp...\n",
       "17  January 15 – A large eruption of Hunga Tonga–H...\n",
       "18  January 16 – World No. 1 tennis champion Novak...\n",
       "19                                         January 23"
      ]
     },
     "execution_count": 55,
     "metadata": {},
     "output_type": "execute_result"
    }
   ],
   "source": [
    "df.tail(20)"
   ]
  },
  {
   "cell_type": "code",
   "execution_count": 56,
   "id": "4a85cfa3",
   "metadata": {},
   "outputs": [],
   "source": [
    "# This step is to adjust the text for example- If the row's text is not a date then we'll add the prefix \"-\"\n",
    "from dateutil.parser import parse\n",
    "\n",
    "prefix = \"\"\n",
    "for (i, row) in df.iterrows():\n",
    "\n",
    "    if \" – \" not in row[\"text\"]:\n",
    "        try:\n",
    "            parse(row[\"text\"])\n",
    "            prefix = row[\"text\"]\n",
    "        except:\n",
    "            row[\"text\"] = prefix + \" – \" + row[\"text\"]\n",
    "df = df[df[\"text\"].str.contains(\" – \")].reset_index(drop=True)"
   ]
  },
  {
   "cell_type": "code",
   "execution_count": 57,
   "id": "da24a252",
   "metadata": {},
   "outputs": [
    {
     "data": {
      "text/html": [
       "<div>\n",
       "<style scoped>\n",
       "    .dataframe tbody tr th:only-of-type {\n",
       "        vertical-align: middle;\n",
       "    }\n",
       "\n",
       "    .dataframe tbody tr th {\n",
       "        vertical-align: top;\n",
       "    }\n",
       "\n",
       "    .dataframe thead th {\n",
       "        text-align: right;\n",
       "    }\n",
       "</style>\n",
       "<table border=\"1\" class=\"dataframe\">\n",
       "  <thead>\n",
       "    <tr style=\"text-align: right;\">\n",
       "      <th></th>\n",
       "      <th>text</th>\n",
       "    </tr>\n",
       "  </thead>\n",
       "  <tbody>\n",
       "    <tr>\n",
       "      <th>0</th>\n",
       "      <td>– 2022 (MMXXII) was a common year starting on...</td>\n",
       "    </tr>\n",
       "    <tr>\n",
       "      <th>1</th>\n",
       "      <td>– The year saw the removal of nearly all COVI...</td>\n",
       "    </tr>\n",
       "    <tr>\n",
       "      <th>2</th>\n",
       "      <td>– 2022 was also dominated by wars and armed c...</td>\n",
       "    </tr>\n",
       "    <tr>\n",
       "      <th>3</th>\n",
       "      <td>January 1 – The Regional Comprehensive Econom...</td>\n",
       "    </tr>\n",
       "    <tr>\n",
       "      <th>4</th>\n",
       "      <td>January 2 – Abdalla Hamdok resigns as Prime Mi...</td>\n",
       "    </tr>\n",
       "    <tr>\n",
       "      <th>5</th>\n",
       "      <td>January 4 – The five permanent members of the ...</td>\n",
       "    </tr>\n",
       "    <tr>\n",
       "      <th>6</th>\n",
       "      <td>January 5 – A nationwide state of emergency is...</td>\n",
       "    </tr>\n",
       "    <tr>\n",
       "      <th>7</th>\n",
       "      <td>January 6 – The CSTO deploys a \"peacekeeping\" ...</td>\n",
       "    </tr>\n",
       "    <tr>\n",
       "      <th>8</th>\n",
       "      <td>January 7 – COVID-19 pandemic: The number of C...</td>\n",
       "    </tr>\n",
       "    <tr>\n",
       "      <th>9</th>\n",
       "      <td>January 9 – February 6 – The 2021 Africa Cup o...</td>\n",
       "    </tr>\n",
       "    <tr>\n",
       "      <th>10</th>\n",
       "      <td>January 10 – The first successful heart transp...</td>\n",
       "    </tr>\n",
       "    <tr>\n",
       "      <th>11</th>\n",
       "      <td>January 15 – A large eruption of Hunga Tonga–H...</td>\n",
       "    </tr>\n",
       "    <tr>\n",
       "      <th>12</th>\n",
       "      <td>January 16 – World No. 1 tennis champion Novak...</td>\n",
       "    </tr>\n",
       "  </tbody>\n",
       "</table>\n",
       "</div>"
      ],
      "text/plain": [
       "                                                 text\n",
       "0    – 2022 (MMXXII) was a common year starting on...\n",
       "1    – The year saw the removal of nearly all COVI...\n",
       "2    – 2022 was also dominated by wars and armed c...\n",
       "3    January 1 – The Regional Comprehensive Econom...\n",
       "4   January 2 – Abdalla Hamdok resigns as Prime Mi...\n",
       "5   January 4 – The five permanent members of the ...\n",
       "6   January 5 – A nationwide state of emergency is...\n",
       "7   January 6 – The CSTO deploys a \"peacekeeping\" ...\n",
       "8   January 7 – COVID-19 pandemic: The number of C...\n",
       "9   January 9 – February 6 – The 2021 Africa Cup o...\n",
       "10  January 10 – The first successful heart transp...\n",
       "11  January 15 – A large eruption of Hunga Tonga–H...\n",
       "12  January 16 – World No. 1 tennis champion Novak..."
      ]
     },
     "execution_count": 57,
     "metadata": {},
     "output_type": "execute_result"
    }
   ],
   "source": [
    "df"
   ]
  },
  {
   "cell_type": "markdown",
   "id": "ae769871",
   "metadata": {},
   "source": [
    "## Custom Query Completion\n",
    "\n",
    "TODO: In the cells below, compose a custom query using your chosen dataset and retrieve results from an OpenAI `Completion` model. You may copy and paste any useful code from the course materials."
   ]
  },
  {
   "cell_type": "code",
   "execution_count": 58,
   "id": "582f0656",
   "metadata": {},
   "outputs": [],
   "source": [
    "import openai\n",
    "\n",
    "# Set your OpenAI API key\n",
    "api_key = 'your_api_Key'\n",
    "openai.api_key = api_key"
   ]
  },
  {
   "cell_type": "code",
   "execution_count": 59,
   "id": "56be851e",
   "metadata": {},
   "outputs": [],
   "source": [
    "# Define a function to query the OpenAI Completion model\n",
    "def query_openai_model(prompt):\n",
    "    response = openai.Completion.create(\n",
    "        model=\"gpt-3.5-turbo-instruct\",\n",
    "        prompt=prompt,\n",
    "        max_tokens=150\n",
    "    )\n",
    "    return response.choices[0].text.strip()"
   ]
  },
  {
   "cell_type": "code",
   "execution_count": 60,
   "id": "f66c88b8",
   "metadata": {},
   "outputs": [
    {
     "name": "stdout",
     "output_type": "stream",
     "text": [
      "Basic Completion Model Answer for 'What were some major events in 2022?':\n",
      "1. Winter Olympics in Beijing, China\n",
      "2. FIFA World Cup in Qatar\n",
      "3. Commonwealth Games in Birmingham, UK\n",
      "4. G20 Summit in Rome, Italy\n",
      "5. United Nations Climate Change Conference (COP26) in Glasgow, Scotland\n",
      "6. Presidential elections in France\n",
      "7. European Union parliamentary elections\n",
      "8. SpaceX's first commercial crewed flight to the International Space Station\n",
      "9. Global protests and strikes for climate action\n",
      "10. Continued global COVID-19 pandemic response and vaccine distribution efforts.\n",
      "\n",
      "Custom Query Answer for 'What were some major events in 2022?':\n",
      "Some major events in 2022 included the removal of COVID-19 restrictions and reopening of international borders, the global economic recovery from the pandemic and inflation surge, and the world population reaching eight billion people. The year also saw natural disasters and armed conflicts, such as the Russian invasion of Ukraine and the largest armed conflict in Europe since World War II. Other notable events included the Regional Comprehensive Economic Partnership coming into effect, the resignation of Sudan's prime minister, a rare joint statement from the UN Security Council on nuclear war, and a successful heart transplant from a pig to a human. The year also saw the 2021 Africa Cup of Nations, a major volcanic eruption triggering tsunami warnings, and Novak Djokovic being deported from Australia.\n",
      "\n",
      "Basic Completion Model Answer for 'What were the significant political changes in 2022?':\n",
      "1. Presidential Elections: One of the most significant political changes in 2022 was the presidential elections in various countries around the world. Several countries, including Brazil, France, and Russia, held their presidential elections, bringing in new leaders and changing political landscapes.\n",
      "\n",
      "2. Change in US Administration: In the United States, the 2022 midterm elections saw a major shift in power with the Democratic Party gaining control of both the House of Representatives and the Senate. This resulted in the appointment of new Cabinet members and a change in policies and priorities of the administration.\n",
      "\n",
      "3. Brexit: In January 2022, the United Kingdom officially left the European Union, marking a significant political change. It resulted in the UK having to renegotiate trade deals,\n",
      "\n",
      "Custom Query Answer for 'What were the significant political changes in 2022?':\n",
      "Some of the significant political changes in 2022 included the resignation of Prime Minister Abdalla Hamdok in Sudan, the declaration of a state of emergency in Kazakhstan and the deployment of a \"peacekeeping\" mission by the CSTO, the removal of former President Nursultan Nazarbayev from his position as Chairman of the Security Council in Kazakhstan, and the deportation of tennis champion Novak Djokovic from Australia. The year also saw the rare joint statement of the five permanent members of the UN Security Council affirming the need to prevent nuclear war and the ongoing response to the COVID-19 pandemic, with over 300 million cases reported worldwide.\n",
      "\n"
     ]
    }
   ],
   "source": [
    "# Define a custom query function using the dataset\n",
    "def custom_query(question, df):\n",
    "    context = \" \".join(df['text'].tolist())\n",
    "    prompt = f\"Context: {context}\\n\\nQuestion: {question}\\nAnswer:\"\n",
    "    return query_openai_model(prompt)\n",
    "\n",
    "# Demonstrate performance with example questions\n",
    "questions = [\n",
    "    \"What were some major events in 2022?\",\n",
    "    \"What were the significant political changes in 2022?\"\n",
    "]\n",
    "\n",
    "for question in questions:\n",
    "    basic_answer = query_openai_model(question)\n",
    "    custom_answer = custom_query(question, df)\n",
    "    \n",
    "    print(f\"Basic Completion Model Answer for '{question}':\\n{basic_answer}\\n\")\n",
    "    print(f\"Custom Query Answer for '{question}':\\n{custom_answer}\\n\")"
   ]
  },
  {
   "cell_type": "markdown",
   "id": "1783f146",
   "metadata": {},
   "source": [
    "## Custom Performance Demonstration\n",
    "\n",
    "TODO: In the cells below, demonstrate the performance of your custom query using at least 2 questions. For each question, show the answer from a basic `Completion` model query as well as the answer from your custom query."
   ]
  },
  {
   "cell_type": "markdown",
   "id": "4f11fdc0",
   "metadata": {},
   "source": [
    "### Question 1"
   ]
  },
  {
   "cell_type": "code",
   "execution_count": 61,
   "id": "03f5d661",
   "metadata": {},
   "outputs": [
    {
     "name": "stdout",
     "output_type": "stream",
     "text": [
      "Basic Completion Model Answer for 'What was the impact of COVID-19 in 2022?':\n",
      "It is difficult to predict the exact impact of COVID-19 in 2022 as the situation is constantly evolving. However, some potential impacts could include:\n",
      "\n",
      "1. Economic Impact: The pandemic has already caused significant disruptions to global economies, and this is likely to continue in 2022. The prolonged lockdowns, travel restrictions, and supply chain disruptions have led to a decrease in consumer spending, business closures, and job losses. It may take some time for economies to recover from this impact, and some industries may see permanent changes in consumer behavior and demand.\n",
      "\n",
      "2. Health Impact: While vaccines have been developed and distributed, it is possible that new variants of the virus could continue to emerge and cause outbreaks in different parts of the world. This\n",
      "\n",
      "Custom Query Answer for 'What was the impact of COVID-19 in 2022?':\n",
      "In 2022, the COVID-19 pandemic continued to have a significant impact on the world. Many countries were able to remove restrictions and reopen borders due to the global rollout of vaccines, but inflation rates rose and central banks had to raise interest rates. The world population also reached 8 billion people in 2022. However, the year also saw natural disasters and conflicts, including the largest armed conflict in Europe since World War II, the Russian invasion of Ukraine.\n",
      "\n"
     ]
    }
   ],
   "source": [
    "# Define a custom query function using the dataset\n",
    "def custom_query(question, df):\n",
    "    context = \" \".join(df['text'].tolist())\n",
    "    prompt = f\"Context: {context}\\n\\nQuestion: {question}\\nAnswer:\"\n",
    "    return query_openai_model(prompt)\n",
    "\n",
    "# Demonstrate performance with example questions\n",
    "questions = [\n",
    "    \"What was the impact of COVID-19 in 2022?\"\n",
    "]\n",
    "\n",
    "for question in questions:\n",
    "    basic_answer = query_openai_model(question)\n",
    "    custom_answer = custom_query(question, df)\n",
    "    \n",
    "    print(f\"Basic Completion Model Answer for '{question}':\\n{basic_answer}\\n\")\n",
    "    print(f\"Custom Query Answer for '{question}':\\n{custom_answer}\\n\")"
   ]
  },
  {
   "cell_type": "code",
   "execution_count": 62,
   "id": "4901c850",
   "metadata": {},
   "outputs": [
    {
     "name": "stdout",
     "output_type": "stream",
     "text": [
      "Basic Completion Model Answer for 'Who are the five permanent members of the UN Security Council?':\n",
      "The five permanent members of the UN Security Council are the United States, Russia, China, France, and the United Kingdom.\n",
      "\n",
      "Custom Query Answer for 'Who are the five permanent members of the UN Security Council?':\n",
      "The five permanent members of the UN Security Council are China, France, Russia, the United Kingdom, and the United States.\n",
      "\n"
     ]
    }
   ],
   "source": [
    "# Define a custom query function using the dataset\n",
    "def custom_query(question, df):\n",
    "    context = \" \".join(df['text'].tolist())\n",
    "    prompt = f\"Context: {context}\\n\\nQuestion: {question}\\nAnswer:\"\n",
    "    return query_openai_model(prompt)\n",
    "\n",
    "# Demonstrate performance with example questions\n",
    "questions = [\n",
    "    \"Who are the five permanent members of the UN Security Council?\"\n",
    "]\n",
    "\n",
    "for question in questions:\n",
    "    basic_answer = query_openai_model(question)\n",
    "    custom_answer = custom_query(question, df)\n",
    "    \n",
    "    print(f\"Basic Completion Model Answer for '{question}':\\n{basic_answer}\\n\")\n",
    "    print(f\"Custom Query Answer for '{question}':\\n{custom_answer}\\n\")"
   ]
  },
  {
   "cell_type": "markdown",
   "id": "6e86e37c",
   "metadata": {},
   "source": [
    "### Question 2"
   ]
  },
  {
   "cell_type": "code",
   "execution_count": 63,
   "id": "ad4aaa30",
   "metadata": {},
   "outputs": [
    {
     "name": "stdout",
     "output_type": "stream",
     "text": [
      "Basic Completion Model Answer for 'Abdalla Hamdok has resigned from which position in 2022?':\n",
      "Abdalla Hamdok resigned from his position as Prime Minister of Sudan in March 2022.\n",
      "\n",
      "Custom Query Answer for 'Abdalla Hamdok has resigned from which position in 2022?':\n",
      "Prime Minister of Sudan.\n",
      "\n"
     ]
    }
   ],
   "source": [
    "# Define a custom query function using the dataset\n",
    "def custom_query(question, df):\n",
    "    context = \" \".join(df['text'].tolist())\n",
    "    prompt = f\"Context: {context}\\n\\nQuestion: {question}\\nAnswer:\"\n",
    "    return query_openai_model(prompt)\n",
    "\n",
    "# Demonstrate performance with example questions\n",
    "questions = [\n",
    "    \"Abdalla Hamdok has resigned from which position in 2022?\"\n",
    "]\n",
    "\n",
    "for question in questions:\n",
    "    basic_answer = query_openai_model(question)\n",
    "    custom_answer = custom_query(question, df)\n",
    "    \n",
    "    print(f\"Basic Completion Model Answer for '{question}':\\n{basic_answer}\\n\")\n",
    "    print(f\"Custom Query Answer for '{question}':\\n{custom_answer}\\n\")"
   ]
  },
  {
   "cell_type": "code",
   "execution_count": 64,
   "id": "96c5bad4",
   "metadata": {},
   "outputs": [
    {
     "name": "stdout",
     "output_type": "stream",
     "text": [
      "Basic Completion Model Answer for 'Who are the five permanent members of the UN Security Council?':\n",
      "The five permanent members of the UN Security Council are the United States, Russia, China, France, and the United Kingdom.\n",
      "\n",
      "Custom Query Answer for 'Who are the five permanent members of the UN Security Council?':\n",
      "The five permanent members of the UN Security Council are China, France, Russia, the United Kingdom, and the United States.\n",
      "\n"
     ]
    }
   ],
   "source": [
    "# Define a custom query function using the dataset\n",
    "def custom_query(question, df):\n",
    "    context = \" \".join(df['text'].tolist())\n",
    "    prompt = f\"Context: {context}\\n\\nQuestion: {question}\\nAnswer:\"\n",
    "    return query_openai_model(prompt)\n",
    "\n",
    "# Demonstrate performance with example questions\n",
    "questions = [\n",
    "    \"Who are the five permanent members of the UN Security Council?\"\n",
    "]\n",
    "\n",
    "for question in questions:\n",
    "    basic_answer = query_openai_model(question)\n",
    "    custom_answer = custom_query(question, df)\n",
    "    \n",
    "    print(f\"Basic Completion Model Answer for '{question}':\\n{basic_answer}\\n\")\n",
    "    print(f\"Custom Query Answer for '{question}':\\n{custom_answer}\\n\")"
   ]
  },
  {
   "cell_type": "code",
   "execution_count": 66,
   "id": "6f646989",
   "metadata": {},
   "outputs": [
    {
     "name": "stdout",
     "output_type": "stream",
     "text": [
      "Basic Completion Model Answer for 'where was the first successful heart transplant from a pig to a human patient occured?':\n",
      "The first successful heart transplant from a pig to a human patient occurred at the National Heart and Lung Institute in Bethesda, Maryland, United States in 1984. The patient, a 35-year-old man with end-stage heart failure, received a baboon heart but died 21 days after the surgery due to a combination of immune rejection and infection. Since then, several other attempts have been made to transplant pig hearts into humans, but none have been successful.\n",
      "\n",
      "Custom Query Answer for 'where was the first successful heart transplant from a pig to a human patient occured?':\n",
      "The first successful heart transplant from a pig to a human patient occurred in Baltimore, Maryland, United States.\n",
      "\n"
     ]
    }
   ],
   "source": [
    "# Define a custom query function using the dataset\n",
    "def custom_query(question, df):\n",
    "    context = \" \".join(df['text'].tolist())\n",
    "    prompt = f\"Context: {context}\\n\\nQuestion: {question}\\nAnswer:\"\n",
    "    return query_openai_model(prompt)\n",
    "\n",
    "# Demonstrate performance with example questions\n",
    "questions = [\n",
    "    \"where was the first successful heart transplant from a pig to a human patient occured?\"\n",
    "]\n",
    "\n",
    "for question in questions:\n",
    "    basic_answer = query_openai_model(question)\n",
    "    custom_answer = custom_query(question, df)\n",
    "    \n",
    "    print(f\"Basic Completion Model Answer for '{question}':\\n{basic_answer}\\n\")\n",
    "    print(f\"Custom Query Answer for '{question}':\\n{custom_answer}\\n\")"
   ]
  },
  {
   "cell_type": "code",
   "execution_count": null,
   "id": "9cdae7d9",
   "metadata": {},
   "outputs": [],
   "source": []
  }
 ],
 "metadata": {
  "kernelspec": {
   "display_name": "Python 3 (ipykernel)",
   "language": "python",
   "name": "python3"
  },
  "language_info": {
   "codemirror_mode": {
    "name": "ipython",
    "version": 3
   },
   "file_extension": ".py",
   "mimetype": "text/x-python",
   "name": "python",
   "nbconvert_exporter": "python",
   "pygments_lexer": "ipython3",
   "version": "3.9.18"
  }
 },
 "nbformat": 4,
 "nbformat_minor": 5
}
